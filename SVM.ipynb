{
 "cells": [
  {
   "cell_type": "markdown",
   "metadata": {},
   "source": [
    "# University Study Prediction Menggunakan SVM\n",
    "\n",
    " - Data yang diambil adalah data mahasiswa UPH yang telah lulus \n",
    " - Data yang diperoleh berupa nim, jurusan, nem SMA, SMA asal, sks, dan ipk\n",
    " - Prediksi ini menggunakan SVM\n",
    " \n",
    "## Import Package\n",
    "\n",
    "import package yang diperlukan"
   ]
  },
  {
   "cell_type": "code",
   "execution_count": 73,
   "metadata": {
    "scrolled": true
   },
   "outputs": [
    {
     "name": "stdout",
     "output_type": "stream",
     "text": [
      "Requirement already satisfied: CATools in c:\\users\\angel\\anaconda3\\lib\\site-packages (0.0.1)\n",
      "Requirement already satisfied: suds-jurko in c:\\users\\angel\\anaconda3\\lib\\site-packages (from CATools) (0.6)\n",
      "Requirement already satisfied: pyyaml in c:\\users\\angel\\anaconda3\\lib\\site-packages (from CATools) (5.1)\n",
      "Requirement already satisfied: sklearn in c:\\users\\angel\\anaconda3\\lib\\site-packages (0.0)\n",
      "Requirement already satisfied: scikit-learn in c:\\users\\angel\\anaconda3\\lib\\site-packages (from sklearn) (0.20.3)\n",
      "Requirement already satisfied: scipy>=0.13.3 in c:\\users\\angel\\anaconda3\\lib\\site-packages (from scikit-learn->sklearn) (1.2.1)\n",
      "Requirement already satisfied: numpy>=1.8.2 in c:\\users\\angel\\anaconda3\\lib\\site-packages (from scikit-learn->sklearn) (1.16.2)\n"
     ]
    }
   ],
   "source": [
    "# Splitting the dataset into the Training set and Test set \n",
    "import random\n",
    "random.seed(123)\n",
    "import numpy as np\n",
    "import pandas as pd\n",
    "from sklearn.model_selection import train_test_split"
   ]
  },
  {
   "cell_type": "markdown",
   "metadata": {},
   "source": [
    "## Prepare data\n",
    "\n",
    "Membaca data dari file datamshclean.csv.\n",
    "\n",
    "Mengambil kolom kdjur sebagai kdjur dan kdsla,nem,sks,ipk sebagai data2\n",
    "\n",
    "Menampilkan data yang akan digunakan\n",
    "\n",
    "Target yang digunakan yaitu kdjur"
   ]
  },
  {
   "cell_type": "code",
   "execution_count": 89,
   "metadata": {},
   "outputs": [
    {
     "data": {
      "text/html": [
       "<div>\n",
       "<style scoped>\n",
       "    .dataframe tbody tr th:only-of-type {\n",
       "        vertical-align: middle;\n",
       "    }\n",
       "\n",
       "    .dataframe tbody tr th {\n",
       "        vertical-align: top;\n",
       "    }\n",
       "\n",
       "    .dataframe thead th {\n",
       "        text-align: right;\n",
       "    }\n",
       "</style>\n",
       "<table border=\"1\" class=\"dataframe\">\n",
       "  <thead>\n",
       "    <tr style=\"text-align: right;\">\n",
       "      <th></th>\n",
       "      <th>no</th>\n",
       "      <th>nim</th>\n",
       "      <th>kdjur</th>\n",
       "      <th>nmjur</th>\n",
       "      <th>kdsla</th>\n",
       "      <th>nem</th>\n",
       "      <th>sks</th>\n",
       "      <th>ipk</th>\n",
       "      <th>status</th>\n",
       "      <th>nemgroup</th>\n",
       "      <th>nmsla</th>\n",
       "    </tr>\n",
       "  </thead>\n",
       "  <tbody>\n",
       "    <tr>\n",
       "      <th>0</th>\n",
       "      <td>1</td>\n",
       "      <td>2.090000e+12</td>\n",
       "      <td>71</td>\n",
       "      <td>PENDIDIKAN DOKTER</td>\n",
       "      <td>31851007</td>\n",
       "      <td>40.70</td>\n",
       "      <td>2.0</td>\n",
       "      <td>3.19</td>\n",
       "      <td>0</td>\n",
       "      <td>3</td>\n",
       "      <td>SMA Stella Duce 1, Yogyakarta</td>\n",
       "    </tr>\n",
       "    <tr>\n",
       "      <th>1</th>\n",
       "      <td>2</td>\n",
       "      <td>2.090000e+12</td>\n",
       "      <td>71</td>\n",
       "      <td>PENDIDIKAN DOKTER</td>\n",
       "      <td>27310001</td>\n",
       "      <td>48.95</td>\n",
       "      <td>2.0</td>\n",
       "      <td>3.30</td>\n",
       "      <td>0</td>\n",
       "      <td>4</td>\n",
       "      <td>SMAN 1, Ambon</td>\n",
       "    </tr>\n",
       "    <tr>\n",
       "      <th>2</th>\n",
       "      <td>3</td>\n",
       "      <td>2.090000e+12</td>\n",
       "      <td>71</td>\n",
       "      <td>PENDIDIKAN DOKTER</td>\n",
       "      <td>31853015</td>\n",
       "      <td>49.00</td>\n",
       "      <td>2.0</td>\n",
       "      <td>3.23</td>\n",
       "      <td>0</td>\n",
       "      <td>4</td>\n",
       "      <td>SMA Citischool (Satria Wacana), Semarang</td>\n",
       "    </tr>\n",
       "    <tr>\n",
       "      <th>3</th>\n",
       "      <td>4</td>\n",
       "      <td>2.090000e+12</td>\n",
       "      <td>71</td>\n",
       "      <td>PENDIDIKAN DOKTER</td>\n",
       "      <td>31875002</td>\n",
       "      <td>49.75</td>\n",
       "      <td>2.0</td>\n",
       "      <td>3.40</td>\n",
       "      <td>0</td>\n",
       "      <td>4</td>\n",
       "      <td>SMAN 1, Samarinda</td>\n",
       "    </tr>\n",
       "    <tr>\n",
       "      <th>4</th>\n",
       "      <td>6</td>\n",
       "      <td>2.090000e+12</td>\n",
       "      <td>71</td>\n",
       "      <td>PENDIDIKAN DOKTER</td>\n",
       "      <td>31843008</td>\n",
       "      <td>44.35</td>\n",
       "      <td>3.0</td>\n",
       "      <td>3.30</td>\n",
       "      <td>0</td>\n",
       "      <td>3</td>\n",
       "      <td>SMA Kristen Bina Bakti 2, Bandung</td>\n",
       "    </tr>\n",
       "  </tbody>\n",
       "</table>\n",
       "</div>"
      ],
      "text/plain": [
       "   no           nim  kdjur              nmjur     kdsla    nem  sks   ipk  \\\n",
       "0   1  2.090000e+12     71  PENDIDIKAN DOKTER  31851007  40.70  2.0  3.19   \n",
       "1   2  2.090000e+12     71  PENDIDIKAN DOKTER  27310001  48.95  2.0  3.30   \n",
       "2   3  2.090000e+12     71  PENDIDIKAN DOKTER  31853015  49.00  2.0  3.23   \n",
       "3   4  2.090000e+12     71  PENDIDIKAN DOKTER  31875002  49.75  2.0  3.40   \n",
       "4   6  2.090000e+12     71  PENDIDIKAN DOKTER  31843008  44.35  3.0  3.30   \n",
       "\n",
       "   status  nemgroup                                     nmsla  \n",
       "0       0         3             SMA Stella Duce 1, Yogyakarta  \n",
       "1       0         4                             SMAN 1, Ambon  \n",
       "2       0         4  SMA Citischool (Satria Wacana), Semarang  \n",
       "3       0         4                         SMAN 1, Samarinda  \n",
       "4       0         3         SMA Kristen Bina Bakti 2, Bandung  "
      ]
     },
     "execution_count": 89,
     "metadata": {},
     "output_type": "execute_result"
    }
   ],
   "source": [
    "#read data dr csv\n",
    "data=pd.read_csv(r\"C:\\Users\\Angel\\Downloads\\datamhsclean.csv\")\n",
    "\n",
    "#select kolom kdjur pada data jadiin variable kdjur\n",
    "kdjur= data[['kdjur']]\n",
    "\n",
    "#data2 ambil beberapa kolom dr data\n",
    "data2 =data [['kdsla','nem','sks','ipk']]\n",
    "\n",
    "#ambil dr data2 yang numeric\n",
    "data2 = data2._get_numeric_data()\n",
    "\n",
    "#print data yang ada sebanyak 5 baris\n",
    "data.head(5)"
   ]
  },
  {
   "cell_type": "markdown",
   "metadata": {},
   "source": [
    "## Splitting\n",
    "\n",
    "data akan di pisah menjadi training dan test dimana jumlah test data sebanyak 25% dan training data sebanyak 75%\n",
    "\n",
    "Menampilkan hasil data yang sudah di train dan test"
   ]
  },
  {
   "cell_type": "code",
   "execution_count": 91,
   "metadata": {},
   "outputs": [
    {
     "name": "stdout",
     "output_type": "stream",
     "text": [
      "\n",
      "data_train:\n",
      "\n",
      "         nem    sks   ipk\n",
      "9182   51.70  133.0  2.64\n",
      "7852   47.40  124.0  3.48\n",
      "8672   32.00  131.0  3.36\n",
      "14604  46.25  152.0  3.65\n",
      "11286  43.60  144.0  2.74\n",
      "(12039, 3)\n",
      "\n",
      "kdjur_train:\n",
      "\n",
      "       kdjur\n",
      "9182      22\n",
      "7852      51\n",
      "8672      43\n",
      "14604     51\n",
      "11286     82\n",
      "(12039, 1)\n",
      "\n",
      "data_test:\n",
      "\n",
      "         nem    sks   ipk\n",
      "6712   54.80  113.0  3.90\n",
      "2647   54.20   57.0  3.81\n",
      "6976   50.30  115.0  3.59\n",
      "9017   49.80  132.0  3.89\n",
      "10453  43.85  140.0  3.28\n",
      "(4014, 3)\n",
      "\n",
      "kdjur_test:\n",
      "\n",
      "       kdjur\n",
      "6712      43\n",
      "2647     113\n",
      "6976      51\n",
      "9017      11\n",
      "10453     61\n",
      "(4014, 1)\n"
     ]
    }
   ],
   "source": [
    "#split dataset jd training & test\n",
    "data_train,data_test,kdjur_train,kdjur_test=train_test_split(data2,kdjur,test_size=0.25, random_state=123)\n",
    "\n",
    "#tampilin yg udah di training & test\n",
    "print(\"\\ndata_train:\\n\")\n",
    "print(data_train.head())\n",
    "print(data_train.shape)\n",
    "\n",
    "print(\"\\nkdjur_train:\\n\")\n",
    "print(kdjur_train.head())\n",
    "print(kdjur_train.shape)\n",
    "\n",
    "print(\"\\ndata_test:\\n\")\n",
    "print(data_test.head())\n",
    "print(data_test.shape)\n",
    "\n",
    "print(\"\\nkdjur_test:\\n\")\n",
    "print(kdjur_test.head())\n",
    "print(kdjur_test.shape)"
   ]
  },
  {
   "cell_type": "markdown",
   "metadata": {},
   "source": [
    "Dapat dilihat 12039 dan 4014 merupakan jumlah data pada train dan test. Angka 1 dan 3 menunjukan banyak kolom pada data"
   ]
  },
  {
   "cell_type": "markdown",
   "metadata": {},
   "source": [
    "## Feature Scaling\n",
    "\n",
    "Scaling diperlukan untuk menghilangkan pengaruh feature yg memiliki range besar mendominasi feature yg memiliki range kecil yang biasa disebut dengan normalisasi"
   ]
  },
  {
   "cell_type": "code",
   "execution_count": 93,
   "metadata": {},
   "outputs": [
    {
     "name": "stdout",
     "output_type": "stream",
     "text": [
      "[[ 0.99318706  0.52888623 -1.32812931]\n",
      " [ 0.03550339  0.32271169  0.75707527]\n",
      " [-3.39434043  0.48306967  0.45918891]\n",
      " ...\n",
      " [-0.97785955  0.80378562 -0.06211224]\n",
      " [-0.58810457  1.30776783  0.60813209]\n",
      " [ 0.61456793 -0.868519   -0.21105542]]\n",
      "[[ 1.68361016  0.07072058  1.79967757]\n",
      " [ 1.54997989 -1.21214323  1.57626279]\n",
      " [ 0.68138307  0.11653715  1.03013778]\n",
      " ...\n",
      " [ 0.58116036  0.94123531  1.35284801]\n",
      " [-1.27852768  1.00996016  0.26059799]\n",
      " [-0.18721374  0.52888623  0.75707527]]\n"
     ]
    }
   ],
   "source": [
    "# Feature Scaling\n",
    "from sklearn.preprocessing import StandardScaler\n",
    "\n",
    "scale_data= StandardScaler()\n",
    "\n",
    "data_train = scale_data.fit_transform(data_train)\n",
    "data_test = scale_data.transform(data_test)\n",
    "\n",
    "#print data train&test yang udah di scaling\n",
    "print(data_train)\n",
    "print(data_test)"
   ]
  },
  {
   "cell_type": "markdown",
   "metadata": {},
   "source": [
    "## Fitting Classifier To The Training Set\n",
    "\n",
    "Melakukan import package yang diperlukan\n",
    "\n",
    "Menggunakan kernel linear\n",
    "\n",
    "Fitting data yang telah di train pada tahap sebelumnya"
   ]
  },
  {
   "cell_type": "code",
   "execution_count": 98,
   "metadata": {},
   "outputs": [
    {
     "data": {
      "text/plain": [
       "SVC(C=1.0, cache_size=200, class_weight=None, coef0=0.0,\n",
       "  decision_function_shape='ovr', degree=3, gamma='auto_deprecated',\n",
       "  kernel='linear', max_iter=-1, probability=False, random_state=0,\n",
       "  shrinking=True, tol=0.001, verbose=False)"
      ]
     },
     "execution_count": 98,
     "metadata": {},
     "output_type": "execute_result"
    }
   ],
   "source": [
    "#import utk fitting classifier to the training set\n",
    "from sklearn.svm import SVC\n",
    "from sklearn import svm\n",
    "from sklearn.model_selection import train_test_split\n",
    "\n",
    "# Create a linear SVM classifier\n",
    "clf = SVC(kernel ='linear', random_state=0)\n",
    "\n",
    "# Train classifier (fitting data yg udh di train)\n",
    "clf.fit(data_train, kdjur_train.values.ravel())"
   ]
  },
  {
   "cell_type": "markdown",
   "metadata": {},
   "source": [
    "## Prediction"
   ]
  },
  {
   "cell_type": "code",
   "execution_count": 115,
   "metadata": {},
   "outputs": [
    {
     "name": "stdout",
     "output_type": "stream",
     "text": [
      "[71 71 71 ... 11 11 11]\n"
     ]
    }
   ],
   "source": [
    "#prediction test result\n",
    "kdjur_pred=clf.predict(data_test)\n",
    "print (kdjur_pred)"
   ]
  },
  {
   "cell_type": "markdown",
   "metadata": {},
   "source": [
    "## Confusion Matrix"
   ]
  },
  {
   "cell_type": "code",
   "execution_count": 116,
   "metadata": {},
   "outputs": [
    {
     "name": "stdout",
     "output_type": "stream",
     "text": [
      "[[627   0   0   0   0   0   0   0   0   0   0   0   0   0  98   0   0   0\n",
      "    0   0   0   0   0   0   0   0   0   0   0   0]\n",
      " [141   0   0   0   0   0   0   0   0   0   0   0   0   0  78   0   0   0\n",
      "    0   0   0   0   0   0   0   0   0   0   0   0]\n",
      " [ 72   0   0   0   0   0   0   0   0   0   0   0   0   0   8   0   0   0\n",
      "    0   0   0   0   0   0   0   0   0   0   0   0]\n",
      " [146   0   0   0   0   0   0   0   0   0   0   0   0   0  26   0   0   0\n",
      "    0   0   0   0   0   0   0   0   0   0   0   0]\n",
      " [141   0   0   0   0   0   0   0   0   0   0   0   0   0  30   0   0   0\n",
      "    0   0   0   0   0   0   0   0   0   0   0   0]\n",
      " [114   0   0   0   0   0   0   0   0   0   0   0   0   0  20   0   0   0\n",
      "    0   0   0   0   0   0   0   0   0   0   0   0]\n",
      " [ 26   0   0   0   0   0   0   0   0   0   0   0   0   0   7   0   0   0\n",
      "    0   0   0   0   0   0   0   0   0   0   0   0]\n",
      " [ 10   0   0   0   0   0   0   0   0   0   0   0   0   0   3   0   0   0\n",
      "    0   0   0   0   0   0   0   0   0   0   0   0]\n",
      " [ 91   0   0   0   0   0   0   0   0   0   0   0   0   0   8   0   0   0\n",
      "    0   0   0   0   0   0   0   0   0   0   0   0]\n",
      " [167   0   0   0   0   0   0   0   0   0   0   0   0   0  45   0   0   0\n",
      "    0   0   0   0   0   0   0   0   0   0   0   0]\n",
      " [168   0   0   0   0   0   0   0   0   0   0   0   0   0  28   0   0   0\n",
      "    0   0   0   0   0   0   0   0   0   0   0   0]\n",
      " [140   0   0   0   0   0   0   0   0   0   0   0   0   0  24   0   0   0\n",
      "    0   0   0   0   0   0   0   0   0   0   0   0]\n",
      " [244   0   0   0   0   0   0   0   0   0   0   0   0   0  87   0   0   0\n",
      "    0   0   0   0   0   0   0   0   0   0   0   0]\n",
      " [175   0   0   0   0   0   0   0   0   0   0   0   0   0  35   0   0   0\n",
      "    0   0   0   0   0   0   0   0   0   0   0   0]\n",
      " [156   0   0   0   0   0   0   0   0   0   0   0   0   0 396   0   0   0\n",
      "    0   0   0   0   0   0   0   0   0   0   0   0]\n",
      " [ 44   0   0   0   0   0   0   0   0   0   0   0   0   0   4   0   0   0\n",
      "    0   0   0   0   0   0   0   0   0   0   0   0]\n",
      " [ 55   0   0   0   0   0   0   0   0   0   0   0   0   0  17   0   0   0\n",
      "    0   0   0   0   0   0   0   0   0   0   0   0]\n",
      " [ 23   0   0   0   0   0   0   0   0   0   0   0   0   0   0   0   0   0\n",
      "    0   0   0   0   0   0   0   0   0   0   0   0]\n",
      " [ 23   0   0   0   0   0   0   0   0   0   0   0   0   0   3   0   0   0\n",
      "    0   0   0   0   0   0   0   0   0   0   0   0]\n",
      " [ 17   0   0   0   0   0   0   0   0   0   0   0   0   0   9   0   0   0\n",
      "    0   0   0   0   0   0   0   0   0   0   0   0]\n",
      " [ 37   0   0   0   0   0   0   0   0   0   0   0   0   0  17   0   0   0\n",
      "    0   0   0   0   0   0   0   0   0   0   0   0]\n",
      " [ 97   0   0   0   0   0   0   0   0   0   0   0   0   0  19   0   0   0\n",
      "    0   0   0   0   0   0   0   0   0   0   0   0]\n",
      " [ 78   0   0   0   0   0   0   0   0   0   0   0   0   0   0   0   0   0\n",
      "    0   0   0   0   0   0   0   0   0   0   0   0]\n",
      " [ 32   0   0   0   0   0   0   0   0   0   0   0   0   0   1   0   0   0\n",
      "    0   0   0   0   0   0   0   0   0   0   0   0]\n",
      " [ 42   0   0   0   0   0   0   0   0   0   0   0   0   0   2   0   0   0\n",
      "    0   0   0   0   0   0   0   0   0   0   0   0]\n",
      " [ 28   0   0   0   0   0   0   0   0   0   0   0   0   0   0   0   0   0\n",
      "    0   0   0   0   0   0   0   0   0   0   0   0]\n",
      " [ 13   0   0   0   0   0   0   0   0   0   0   0   0   0   0   0   0   0\n",
      "    0   0   0   0   0   0   0   0   0   0   0   0]\n",
      " [  9   0   0   0   0   0   0   0   0   0   0   0   0   0   1   0   0   0\n",
      "    0   0   0   0   0   0   0   0   0   0   0   0]\n",
      " [ 51   0   0   0   0   0   0   0   0   0   0   0   0   0  64   0   0   0\n",
      "    0   0   0   0   0   0   0   0   0   0   0   0]\n",
      " [ 12   0   0   0   0   0   0   0   0   0   0   0   0   0   5   0   0   0\n",
      "    0   0   0   0   0   0   0   0   0   0   0   0]]\n"
     ]
    }
   ],
   "source": [
    "#import confusion matrix\n",
    "from sklearn.metrics import confusion_matrix\n",
    "\n",
    "#confusion matrix\n",
    "cm = confusion_matrix(kdjur_test, kdjur_pred)\n",
    "print(cm)"
   ]
  },
  {
   "cell_type": "markdown",
   "metadata": {},
   "source": [
    "## K Fold\n",
    "\n",
    "accuracy digunakan untuk mengevaluasi model yang merupakan rasio dari jumlah kejadian yang diprediksi dengan benar dibagi dengan jumlah total kasus dalam dataset untuk memberikan persentase.  Kita akan menggunakan variabel penilaian saat menjalankan build dan mengevaluasi setiap model di langkah selanjutnya"
   ]
  },
  {
   "cell_type": "code",
   "execution_count": 126,
   "metadata": {},
   "outputs": [
    {
     "name": "stdout",
     "output_type": "stream",
     "text": [
      "cross fold validation average accuracy: 0.252\n"
     ]
    }
   ],
   "source": [
    "#K Fold\n",
    "from sklearn import model_selection\n",
    "from sklearn.model_selection import cross_val_score\n",
    "\n",
    "kfold = model_selection.KFold(n_splits=10, random_state=7)\n",
    "\n",
    "modelCV = SVC(kernel ='linear', random_state=0)\n",
    "scoring ='accuracy'\n",
    "results = model_selection.cross_val_score(modelCV,data_train,kdjur_train.values.ravel(), cv=kfold, scoring=scoring)\n",
    "print(\"cross fold validation average accuracy: %.3f\"%(results.mean()))\n",
    "\n"
   ]
  },
  {
   "cell_type": "markdown",
   "metadata": {},
   "source": [
    "## Evaluating Classification Report"
   ]
  },
  {
   "cell_type": "code",
   "execution_count": 118,
   "metadata": {},
   "outputs": [
    {
     "name": "stdout",
     "output_type": "stream",
     "text": [
      "              precision    recall  f1-score   support\n",
      "\n",
      "          11       0.21      0.86      0.34       725\n",
      "          12       0.00      0.00      0.00       219\n",
      "          21       0.00      0.00      0.00        80\n",
      "          22       0.00      0.00      0.00       172\n",
      "          23       0.00      0.00      0.00       171\n",
      "          24       0.00      0.00      0.00       134\n",
      "          25       0.00      0.00      0.00        33\n",
      "          32       0.00      0.00      0.00        13\n",
      "          33       0.00      0.00      0.00        99\n",
      "          34       0.00      0.00      0.00       212\n",
      "          41       0.00      0.00      0.00       196\n",
      "          43       0.00      0.00      0.00       164\n",
      "          51       0.00      0.00      0.00       331\n",
      "          61       0.00      0.00      0.00       210\n",
      "          71       0.38      0.72      0.50       552\n",
      "          81       0.00      0.00      0.00        48\n",
      "          82       0.00      0.00      0.00        72\n",
      "          83       0.00      0.00      0.00        23\n",
      "         101       0.00      0.00      0.00        26\n",
      "         112       0.00      0.00      0.00        26\n",
      "         113       0.00      0.00      0.00        54\n",
      "         121       0.00      0.00      0.00       116\n",
      "         307       0.00      0.00      0.00        78\n",
      "         314       0.00      0.00      0.00        33\n",
      "         401       0.00      0.00      0.00        44\n",
      "         404       0.00      0.00      0.00        28\n",
      "         407       0.00      0.00      0.00        13\n",
      "         408       0.00      0.00      0.00        10\n",
      "         501       0.00      0.00      0.00       115\n",
      "         541       0.00      0.00      0.00        17\n",
      "\n",
      "   micro avg       0.25      0.25      0.25      4014\n",
      "   macro avg       0.02      0.05      0.03      4014\n",
      "weighted avg       0.09      0.25      0.13      4014\n",
      "\n"
     ]
    },
    {
     "name": "stderr",
     "output_type": "stream",
     "text": [
      "C:\\Users\\Angel\\Anaconda3\\lib\\site-packages\\sklearn\\metrics\\classification.py:1143: UndefinedMetricWarning: Precision and F-score are ill-defined and being set to 0.0 in labels with no predicted samples.\n",
      "  'precision', 'predicted', average, warn_for)\n"
     ]
    }
   ],
   "source": [
    "#evaluating classification report\n",
    "from sklearn.metrics import classification_report\n",
    "print(classification_report(kdjur_test, kdjur_pred))"
   ]
  },
  {
   "cell_type": "code",
   "execution_count": 125,
   "metadata": {},
   "outputs": [],
   "source": [
    "import pickle\n",
    "\n",
    "# write python dict to a file\n",
    "#mydict = {'a': 1, 'b': 2, 'c': 3}\n",
    "output = open('kdjur_pred.pkl', 'wb')\n",
    "pickle.dump(kdjur_pred, output)\n",
    "output.close()\n",
    "\n",
    "# read python dict back from the file\n",
    "#pkl_file = open('data_train.pkl', 'rb')\n",
    "#mydict2 = pickle.load(pkl_file)\n",
    "#pkl_file.close()\n",
    "\n",
    "#print (data_train)\n",
    "#print (mydict2)"
   ]
  },
  {
   "cell_type": "code",
   "execution_count": null,
   "metadata": {},
   "outputs": [],
   "source": []
  }
 ],
 "metadata": {
  "kernelspec": {
   "display_name": "Python 3",
   "language": "python",
   "name": "python3"
  },
  "language_info": {
   "codemirror_mode": {
    "name": "ipython",
    "version": 3
   },
   "file_extension": ".py",
   "mimetype": "text/x-python",
   "name": "python",
   "nbconvert_exporter": "python",
   "pygments_lexer": "ipython3",
   "version": "3.7.3"
  }
 },
 "nbformat": 4,
 "nbformat_minor": 2
}
